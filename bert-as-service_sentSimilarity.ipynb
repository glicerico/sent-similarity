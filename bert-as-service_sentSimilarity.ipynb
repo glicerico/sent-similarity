{
 "cells": [
  {
   "cell_type": "markdown",
   "metadata": {},
   "source": [
    "# Evaluating similarity of example sentences"
   ]
  },
  {
   "cell_type": "code",
   "execution_count": 1,
   "metadata": {},
   "outputs": [],
   "source": [
    "import numpy as np\n",
    "import matplotlib.pyplot as plt\n",
    "\n",
    "# Installation of bert-as-service is needed. Check https://github.com/hanxiao/bert-as-service\n",
    "# This notebook uses the LARGE Cased pre-trained BERT model: cased_L-24_H-1024_A-16\n",
    "\n",
    "# First, start bert-as-service server separately\n",
    "\n",
    "# Then connect to bert-as-service server\n",
    "from bert_serving.client import BertClient\n",
    "bc = BertClient()"
   ]
  },
  {
   "cell_type": "code",
   "execution_count": 2,
   "metadata": {},
   "outputs": [
    {
     "data": {
      "text/plain": [
       "array([[ 0.20245346, -0.07067921,  0.12692763, ...,  0.6660406 ,\n",
       "         0.12261808,  0.05835291]], dtype=float32)"
      ]
     },
     "execution_count": 2,
     "metadata": {},
     "output_type": "execute_result"
    }
   ],
   "source": [
    "# Check that connection to server works\n",
    "test = bc.encode(['This is a test sentence'])\n",
    "test"
   ]
  },
  {
   "cell_type": "code",
   "execution_count": 3,
   "metadata": {},
   "outputs": [],
   "source": [
    "sentences = ['I like my phone',\n",
    "             'Your cellphone looks great.', \n",
    "             'Will it snow tomorrow?', \n",
    "             'Hurricanes have hit the US',\n",
    "             'How old are you?', \n",
    "             'what is your age?']\n",
    "sentences_vecs = bc.encode(sentences)"
   ]
  },
  {
   "cell_type": "code",
   "execution_count": 4,
   "metadata": {
    "scrolled": true
   },
   "outputs": [],
   "source": [
    "len_sentences = len(sentences)\n",
    "sim_matrix = np.zeros([len_sentences, len_sentences])\n",
    "for idx in range(len(sentences)):\n",
    "    for idy in range(idx,len_sentences):\n",
    "        score = np.dot(sentences_vecs[idx], sentences_vecs[idy]) / np.linalg.norm(sentences_vecs[idx]) / np.linalg.norm(sentences_vecs[idy])\n",
    "        #print(\"ID: {}, sentence1: {}, sentence2: {}\".format(idx, sentences[idx], sentences[idy]))\n",
    "        sim_matrix[idx, idy] = score\n",
    "        sim_matrix[idy, idx] = score"
   ]
  },
  {
   "cell_type": "markdown",
   "metadata": {},
   "source": [
    "### We can compare the calculated similarities between each pair of sentences"
   ]
  },
  {
   "cell_type": "code",
   "execution_count": 100,
   "metadata": {},
   "outputs": [
    {
     "data": {
      "text/plain": [
       "<matplotlib.colorbar.Colorbar at 0x7fb3481cecf8>"
      ]
     },
     "execution_count": 100,
     "metadata": {},
     "output_type": "execute_result"
    },
    {
     "data": {
      "image/png": "[encoded data removed]",
      "text/plain": [
       "<Figure size 432x288 with 2 Axes>"
      ]
     },
     "metadata": {
      "needs_background": "light"
     },
     "output_type": "display_data"
    }
   ],
   "source": [
    "plt.imshow(sim_matrix)\n",
    "plt.colorbar()"
   ]
  },
  {
   "cell_type": "markdown",
   "metadata": {},
   "source": [
    "Compare to matrix in Google's blog: https://ai.googleblog.com/2018/05/advances-in-semantic-textual-similarity.html"
   ]
  },
  {
   "cell_type": "code",
   "execution_count": 6,
   "metadata": {},
   "outputs": [
    {
     "data": {
      "text/html": [
       "<img src=\"https://2.bp.blogspot.com/-9Qk1fubLpzg/Wv2QGgKVVmI/AAAAAAAACvs/Gm-XF3prXVIIvaIkrTmkcIcYz-4qSxLKwCLcBGAs/s1600/image2.png\">\n"
      ],
      "text/plain": [
       "<IPython.core.display.HTML object>"
      ]
     },
     "metadata": {},
     "output_type": "display_data"
    }
   ],
   "source": [
    "%%HTML\n",
    "<img src=\"https://2.bp.blogspot.com/-9Qk1fubLpzg/Wv2QGgKVVmI/AAAAAAAACvs/Gm-XF3prXVIIvaIkrTmkcIcYz-4qSxLKwCLcBGAs/s1600/image2.png\">"
   ]
  },
  {
   "cell_type": "markdown",
   "metadata": {},
   "source": [
    "Results are not as clear as the ones from Google's report, but this approach is completely unsupervised."
   ]
  },
  {
   "cell_type": "markdown",
   "metadata": {},
   "source": [
    "# Evaluating STS-B Sentence similarity Dataset\n",
    "## http://ixa2.si.ehu.es/stswiki/index.php/STSbenchmark\n",
    "\n",
    "To get a better idea, we can use the same technique to complete the STS-B task (part of GLUE Benchmark)"
   ]
  },
  {
   "cell_type": "code",
   "execution_count": 7,
   "metadata": {},
   "outputs": [
    {
     "name": "stdout",
     "output_type": "stream",
     "text": [
      "Cloning into 'download_glue_repo'...\n",
      "remote: Enumerating objects: 21, done.\u001b[K\n",
      "remote: Total 21 (delta 0), reused 0 (delta 0), pack-reused 21\n",
      "Unpacking objects: 100% (21/21), done.\n",
      "Downloading and extracting STS...\n",
      "\tCompleted!\n",
      "***** Task data directory: glue_data/STS-B *****\n",
      "dev.tsv  LICENSE.txt  original\treadme.txt  test.tsv  train.tsv\n"
     ]
    }
   ],
   "source": [
    "TASK = 'STS'\n",
    "assert TASK in ('STS'), 'Only (STS) is demonstrated here.'\n",
    "# Download glue data.\n",
    "! test -d dowload_glue_repo || git clone https://gist.github.com/60c2bdb54d156a41194446737ce03e2e.git download_glue_repo\n",
    "! python download_glue_repo/download_glue_data.py --data_dir='glue_data' --tasks=$TASK\n",
    "TASK_DATA_DIR = 'glue_data/' + TASK + '-B'\n",
    "print('***** Task data directory: {} *****'.format(TASK_DATA_DIR))\n",
    "!ls $TASK_DATA_DIR"
   ]
  },
  {
   "cell_type": "code",
   "execution_count": 29,
   "metadata": {},
   "outputs": [
    {
     "name": "stdout",
     "output_type": "stream",
     "text": [
      "--2019-03-25 02:05:17--  https://raw.githubusercontent.com/rgtjf/Semantic-Texual-Similarity-Toolkits/master/data/stsbenchmark/correlation.pl\n",
      "Resolving raw.githubusercontent.com (raw.githubusercontent.com)... 151.101.8.133\n",
      "Connecting to raw.githubusercontent.com (raw.githubusercontent.com)|151.101.8.133|:443... connected.\n",
      "HTTP request sent, awaiting response... 200 OK\n",
      "Length: 2119 (2.1K) [text/plain]\n",
      "Saving to: ‘glue_data/STS-B/correlation.pl’\n",
      "\n",
      "glue_data/STS-B/cor 100%[===================>]   2.07K  --.-KB/s    in 0s      \n",
      "\n",
      "2019-03-25 02:05:19 (20.1 MB/s) - ‘glue_data/STS-B/correlation.pl’ saved [2119/2119]\n",
      "\n"
     ]
    }
   ],
   "source": [
    "# Get evaluator file. From STS-B readme:\n",
    "#The official evaluation is the Pearson correlation coefficient. Given\n",
    "#an output file comprising the system scores (one per line) in a file\n",
    "#called sys.txt, you can use the evaluation script as follows:\n",
    "#\n",
    "#$ perl correlation.pl sts-dev.txt sys.txt\n",
    "! wget https://raw.githubusercontent.com/rgtjf/Semantic-Texual-Similarity-Toolkits/master/data/stsbenchmark/correlation.pl -O glue_data/STS-B/correlation.pl"
   ]
  },
  {
   "cell_type": "code",
   "execution_count": 91,
   "metadata": {},
   "outputs": [
    {
     "name": "stdout",
     "output_type": "stream",
     "text": [
      "[['A man with a hard hat is dancing.', 'A man wearing a hard hat is dancing.'], ['A young child is riding a horse.', 'A child is riding a horse.'], ['A man is feeding a mouse to a snake.', 'The man is feeding a mouse to the snake.'], ['A woman is playing the guitar.', 'A man is playing guitar.'], ['A woman is playing the flute.', 'A man is playing a flute.']]\n",
      "[5.0, 4.75, 5.0, 2.4, 2.75]\n"
     ]
    }
   ],
   "source": [
    "# READ developers set\n",
    "\n",
    "import csv\n",
    "\"\"\"Reads a tab separated value file.\"\"\"\n",
    "input_file = TASK_DATA_DIR + \"/dev.tsv\"\n",
    "lines = []\n",
    "gs_scores = []\n",
    "with open(input_file, \"r\") as f:\n",
    "  reader = csv.reader(f, delimiter=\"\\t\", quotechar=None)\n",
    "  for line in reader:\n",
    "    lines.append(line[7:9])\n",
    "    gs_scores.append(line[9])\n",
    "\n",
    "lines.pop(0) # Get rid of the header\n",
    "gs_scores.pop(0)\n",
    "print(lines[0:5]) # Show some examples\n",
    "gs_scores = [float(value) for value in gs_scores]\n",
    "print(gs_scores[0:5])"
   ]
  },
  {
   "cell_type": "code",
   "execution_count": 71,
   "metadata": {},
   "outputs": [],
   "source": [
    "## CALCULATE BERT untrained similarities\n",
    "\n",
    "num_pairs = len(lines)\n",
    "with open(\"sys.txt\", \"w\") as fo:\n",
    "    for i in range(num_pairs):\n",
    "        sent_vecs = bc.encode(lines[i])\n",
    "        score = np.dot(sent_vecs[0], sent_vecs[1]) / np.linalg.norm(sent_vecs[0]) / np.linalg.norm(sent_vecs[1])\n",
    "        fo.write(str(score) + '\\n')"
   ]
  },
  {
   "cell_type": "code",
   "execution_count": 92,
   "metadata": {},
   "outputs": [],
   "source": [
    "## READ predicted similarities from file, because I didn't keep them :P\n",
    "with open(\"sys.txt\", \"r\") as fs:\n",
    "    similarities = [float(entry) for entry in fs]"
   ]
  },
  {
   "cell_type": "code",
   "execution_count": 94,
   "metadata": {},
   "outputs": [
    {
     "data": {
      "text/plain": [
       "<matplotlib.collections.PathCollection at 0x7fb348abb5c0>"
      ]
     },
     "execution_count": 94,
     "metadata": {},
     "output_type": "execute_result"
    },
    {
     "data": {
      "image/png": "[encoded data removed]",
      "text/plain": [
       "<Figure size 432x288 with 1 Axes>"
      ]
     },
     "metadata": {
      "needs_background": "light"
     },
     "output_type": "display_data"
    }
   ],
   "source": [
    "## PLOT human vs predicted similarities\n",
    "\n",
    "plt.scatter(similarities, gs_scores)"
   ]
  },
  {
   "cell_type": "code",
   "execution_count": 99,
   "metadata": {},
   "outputs": [
    {
     "name": "stdout",
     "output_type": "stream",
     "text": [
      "PearsonrResult:(0.6258692943475741, 6.52840806337292e-164)\n",
      "SpearmanrResult(correlation=0.6405689318855184, pvalue=4.944164259270278e-174)\n"
     ]
    }
   ],
   "source": [
    "## CALCULATE Pearson and Spearman correlation coefficients\n",
    "\n",
    "from pydoc import help\n",
    "from scipy.stats.stats import pearsonr, spearmanr\n",
    "print(\"PearsonrResult:{}\".format(pearsonr(similarities, gs_scores)))\n",
    "print(spearmanr(similarities, gs_scores))"
   ]
  },
  {
   "cell_type": "markdown",
   "metadata": {},
   "source": [
    "We can compare these results with the benchmark's leaderboard: http://ixa2.si.ehu.es/stswiki/index.php/STSbenchmark\n",
    "According to BERT paper, they did better than anyone in that table after fine-tuning, but their results are not included in the table, so I guess it's not up to date.\n",
    "\n",
    "I consider we should compare with the test column of the table, as we didn't use the developer's set to tune any parameters at all. If this assumption is valid, this technique offers mid-table unsupervised results. Whether that's enough for our purposes is a different question."
   ]
  }
 ],
 "metadata": {
  "kernelspec": {
   "display_name": "Python 3",
   "language": "python",
   "name": "python3"
  },
  "language_info": {
   "codemirror_mode": {
    "name": "ipython",
    "version": 3
   },
   "file_extension": ".py",
   "mimetype": "text/x-python",
   "name": "python",
   "nbconvert_exporter": "python",
   "pygments_lexer": "ipython3",
   "version": "3.6.8"
  }
 },
 "nbformat": 4,
 "nbformat_minor": 2
}
